{
 "cells": [
  {
   "cell_type": "markdown",
   "metadata": {
    "colab_type": "text",
    "id": "R_hhZAAZzpIT"
   },
   "source": [
    "# Homework Grading\n",
    "The goal of this is to develop a robust homework grading system which combines Google Colab + Jupyter Notebooks + GitHub Classroom + Otter Grader + Blackboard. \n",
    "\n",
    "### Setup\n",
    "\n",
    "\n",
    "  1. Make sure that Docker is installed and the Docker Daemon is running.  You can download Docker [here](https://docs.docker.com/get-docker/).\n",
    "\n",
    "  2. Clone the `Otter Helper` repository from [here](https://github.com/jkuruzovich/otter_helper).\n",
    "  \n",
    "  3.  Download assignment from Blackboard or GitHub and put it in the `assignments/<course>/<assignment>` directory. If you then paste your solution in this directory, it will be a good test that it was possible to get 100% on all of the tests.\n",
    "  \n",
    "  4. Update the `/config/course/<course>.yml` file with the appropriate configuration and assignments. \n",
    "  \n",
    "  5. Verify that the appropriate tests and data are in the associated `config/course/assignment/` folder. \n",
    "  \n",
    "  6. Verify that the appropriate files specified in the assignments are in the associated `config/course/files/` folder.\n",
    "  \n",
    "  7. Verify that the roster is setup in `config/course/roster.xlsx`. This includes 1 sheet which maps GitHub id to student id (if using GitHub classroom) and 1 that is a template downloaded from Blackboard. \n",
    "  8. Update the course and assignment you are grading in the cell below. \n",
    "\n",
    "**After completing the above, you are ready to launch Notebook and run the associated steps.**  \n"
   ]
  },
  {
   "cell_type": "code",
   "execution_count": 1,
   "metadata": {},
   "outputs": [],
   "source": [
    "%load_ext autoreload\n",
    "%autoreload 2\n",
    "%matplotlib inline"
   ]
  },
  {
   "cell_type": "code",
   "execution_count": 2,
   "metadata": {},
   "outputs": [],
   "source": [
    "#set to what you want to grade\n",
    "course = 'sample-class' #Sample assignments. \n",
    "assignment_id = 'github-classroom'  #Choose 'blackboard' or 'github-classroom' for samples. \n"
   ]
  },
  {
   "cell_type": "markdown",
   "metadata": {},
   "source": [
    "### Build the Docker Container\n",
    "I find it is best to customize your docker container and build it if grading locally. If you add your requirements for a single class docker container and not to each assignment, overall grading will go much faster. \n",
    "\n",
    "Uncomment the cells below and run it. Be sure to keep the `!` as this is run via the command line. "
   ]
  },
  {
   "cell_type": "code",
   "execution_count": 3,
   "metadata": {},
   "outputs": [],
   "source": [
    "#!cd ../docker && docker build . -t otter-helper:latest"
   ]
  },
  {
   "cell_type": "markdown",
   "metadata": {},
   "source": [
    "### Set and Load the Configuration\n",
    "This loads the configuration from the `/config/course/config.yml` file.  "
   ]
  },
  {
   "cell_type": "code",
   "execution_count": 4,
   "metadata": {
    "colab": {},
    "colab_type": "code",
    "id": "AjZgEPpP61tb"
   },
   "outputs": [
    {
     "data": {
      "text/plain": [
       "{'class_name': 'Sample Class',\n",
       " 'class_id': 'sample-class',\n",
       " 'message_complete': 'Your submission was successfully received and graded.<br>',\n",
       " 'message_incomplete': 'If you get this message it is because you did not submit assignment. Please see the TA.<br>',\n",
       " 'num_containers': 4,\n",
       " 'ignore': ['.ipynb_checkpoints', '.DS_Store'],\n",
       " 'requirements': 'config/sample-class/requirements.txt',\n",
       " 'roster': 'config/sample-class/roster.xlsx',\n",
       " 'assignments': {'blackboard': {'name': 'Sample assignment',\n",
       "   'type': 'bb',\n",
       "   'extension': '.ipynb',\n",
       "   'tests_path': 'config/sample-class/blackboard/hidden-tests',\n",
       "   'requirements': 'config/sample-class/requirements.txt',\n",
       "   'seed': 42,\n",
       "   'bb_column': 'blackboard_grade_test',\n",
       "   'files': ['config/files/test_data_a.csv', 'config/files/test_data_b.csv']},\n",
       "  'github-classroom': {'name': 'Sample assignment2',\n",
       "   'type': 'gc',\n",
       "   'extension': '.ipynb',\n",
       "   'tests_path': 'config/sample-class/github-classroom/hidden-tests',\n",
       "   'requirements': 'config/sample-class/requirements.txt',\n",
       "   'seed': 42,\n",
       "   'bb_column': 'blackboard_grade_test',\n",
       "   'files': ['config/files/test_data_a.csv', 'config/files/test_data_b.csv']}},\n",
       " 'grade_assignment': 'github-classroom',\n",
       " 'base_path': PosixPath('/Users/jasonkuruzovich/GitHub/otter_helper'),\n",
       " 'assignments_path': PosixPath('/Users/jasonkuruzovich/GitHub/otter_helper/assignments/sample-class/github-classroom'),\n",
       " 'roster_path': PosixPath('/Users/jasonkuruzovich/GitHub/otter_helper/config/sample-class/roster.xlsx'),\n",
       " 'grades_output_path': PosixPath('/Users/jasonkuruzovich/GitHub/otter_helper/output/sample-class/github-classroom'),\n",
       " 'json_output_path': PosixPath('/Users/jasonkuruzovich/GitHub/otter_helper/output/sample-class/github-classroom/json'),\n",
       " 'tmp_path': PosixPath('/Users/jasonkuruzovich/GitHub/otter_helper/tmp'),\n",
       " 'grade_file': PosixPath('/Users/jasonkuruzovich/GitHub/otter_helper/tmp/final_grades.csv')}"
      ]
     },
     "execution_count": 4,
     "metadata": {},
     "output_type": "execute_result"
    }
   ],
   "source": [
    "from pathlib import Path\n",
    "import configparser, sys, os, importlib\n",
    "import pandas as pd\n",
    " \n",
    "cwd_dir = Path.cwd() #For running locally\n",
    "base_dir = cwd_dir.parent #For running locally\n",
    "#base_dir='/content/drive/My Drive/autograding'\n",
    "modules_path = base_dir / 'modules' \n",
    "sys.path.append('../modules') # Not sure why appending the mudles path didn't work. \n",
    "\n",
    "#Load the autograding library\n",
    "import autograde as ag\n",
    "importlib.reload(ag)\n",
    "cf = ag.get_config(course, assignment_id, base_dir)\n",
    "cf"
   ]
  },
  {
   "cell_type": "markdown",
   "metadata": {},
   "source": [
    "### Prepare Grading\n",
    "The will copy the assignent files either from the Blackboard or the GitHub classroom files in the `/assignments/course/assignment` folder to the `/tmp/` folder. It will also generate the needed `meta.json` file which maps the identifier (GitHub/Student ID) to the submission file. \n",
    "\n",
    "The `cleaup=True` option just deletes the tmp folder before starting and is recommended.  "
   ]
  },
  {
   "cell_type": "code",
   "execution_count": 5,
   "metadata": {},
   "outputs": [
    {
     "data": {
      "text/plain": [
       "[{'identifier': 'demo-fails2', 'filename': 'demo-fails2_notebook.ipynb'},\n",
       " {'identifier': 'demo-fails3Hidden',\n",
       "  'filename': 'demo-fails3Hidden_notebook.ipynb'},\n",
       " {'identifier': 'demo-fails3', 'filename': 'demo-fails3_notebook.ipynb'},\n",
       " {'identifier': 'demo-fails1', 'filename': 'demo-fails1_notebook.ipynb'},\n",
       " {'identifier': 'demo-fails2Hidden',\n",
       "  'filename': 'demo-fails2Hidden_notebook.ipynb'},\n",
       " {'identifier': 'demo-passesAll', 'filename': 'demo-passesAll_notebook.ipynb'}]"
      ]
     },
     "execution_count": 5,
     "metadata": {},
     "output_type": "execute_result"
    }
   ],
   "source": [
    "files=ag.prepare_grade(cf,  cleanup=True)  \n",
    "files"
   ]
  },
  {
   "cell_type": "markdown",
   "metadata": {},
   "source": [
    "## Running the Grader \n",
    "\n",
    "This will launch several Docker containers (the number specified by the `config.yml` file, grade the assignment, and aggregate the assocated grades in the `./tmp/final_grades.csv`."
   ]
  },
  {
   "cell_type": "code",
   "execution_count": 6,
   "metadata": {},
   "outputs": [
    {
     "name": "stdout",
     "output_type": "stream",
     "text": [
      "Found JSON metadata...\n",
      "Launching docker containers...\n",
      "Launched container 52b753a5b570...\n",
      "Launched container 53b19a841ce0...\n",
      "Launched container 6de9462e2cf7...\n",
      "Launched container 02415ddf1e82...\n",
      "Installing requirements in container 52b753a5b570...\n",
      "Installing requirements in container 6de9462e2cf7...\n",
      "Installing requirements in container 53b19a841ce0...\n",
      "Installing requirements in container 02415ddf1e82...\n",
      "Grading notebooks in container 52b753a5b570...\n",
      "Grading notebooks in container 6de9462e2cf7...\n",
      "Grading notebooks in container 02415ddf1e82...\n",
      "Grading notebooks in container 53b19a841ce0...\n",
      "Copying grades from container 52b753a5b570...\n",
      "Copying grades from container 02415ddf1e82...\n",
      "Copying grades from container 6de9462e2cf7...\n",
      "Stopping container 02415ddf1e82...\n",
      "Stopping container 6de9462e2cf7...\n",
      "Stopping container 52b753a5b570...\n",
      "Copying grades from container 53b19a841ce0...\n",
      "Stopping container 53b19a841ce0...\n",
      "Combining grades and saving...\n"
     ]
    }
   ],
   "source": [
    "!cd ../tmp && otter -j meta.json -t tests --image otter-helper:latest -v"
   ]
  },
  {
   "cell_type": "markdown",
   "metadata": {},
   "source": [
    "### Review the Grades\n",
    "No you have graded all the students there is an output file in `./tmp/final_grades.csv`.  If you have added your solution to this, it is a good practice to double check that your solution passed all of the associate tests. \n",
    "\n",
    "If you find that nearly all students missed a test, it may also signal an issue with the test. You can always adjust the tests and then re-run the above grading. \n"
   ]
  },
  {
   "cell_type": "code",
   "execution_count": 7,
   "metadata": {},
   "outputs": [
    {
     "data": {
      "text/html": [
       "<div>\n",
       "<style scoped>\n",
       "    .dataframe tbody tr th:only-of-type {\n",
       "        vertical-align: middle;\n",
       "    }\n",
       "\n",
       "    .dataframe tbody tr th {\n",
       "        vertical-align: top;\n",
       "    }\n",
       "\n",
       "    .dataframe thead th {\n",
       "        text-align: right;\n",
       "    }\n",
       "</style>\n",
       "<table border=\"1\" class=\"dataframe\">\n",
       "  <thead>\n",
       "    <tr style=\"text-align: right;\">\n",
       "      <th></th>\n",
       "      <th>identifier</th>\n",
       "      <th>file</th>\n",
       "      <th>q1</th>\n",
       "      <th>q1H</th>\n",
       "      <th>q2</th>\n",
       "      <th>q2H</th>\n",
       "      <th>q3</th>\n",
       "      <th>q3H</th>\n",
       "      <th>total</th>\n",
       "      <th>possible</th>\n",
       "    </tr>\n",
       "  </thead>\n",
       "  <tbody>\n",
       "    <tr>\n",
       "      <th>0</th>\n",
       "      <td>demo-passesAll</td>\n",
       "      <td>demo-passesAll_notebook.ipynb</td>\n",
       "      <td>1.0</td>\n",
       "      <td>2.0</td>\n",
       "      <td>1.0</td>\n",
       "      <td>1.0</td>\n",
       "      <td>1.0</td>\n",
       "      <td>0.0</td>\n",
       "      <td>6.0</td>\n",
       "      <td>8</td>\n",
       "    </tr>\n",
       "    <tr>\n",
       "      <th>1</th>\n",
       "      <td>demo-fails1</td>\n",
       "      <td>demo-fails1_notebook.ipynb</td>\n",
       "      <td>1.0</td>\n",
       "      <td>0.0</td>\n",
       "      <td>1.0</td>\n",
       "      <td>1.0</td>\n",
       "      <td>1.0</td>\n",
       "      <td>0.0</td>\n",
       "      <td>4.0</td>\n",
       "      <td>8</td>\n",
       "    </tr>\n",
       "    <tr>\n",
       "      <th>2</th>\n",
       "      <td>demo-fails3Hidden</td>\n",
       "      <td>demo-fails3Hidden_notebook.ipynb</td>\n",
       "      <td>1.0</td>\n",
       "      <td>2.0</td>\n",
       "      <td>1.0</td>\n",
       "      <td>1.0</td>\n",
       "      <td>1.0</td>\n",
       "      <td>0.0</td>\n",
       "      <td>6.0</td>\n",
       "      <td>8</td>\n",
       "    </tr>\n",
       "    <tr>\n",
       "      <th>3</th>\n",
       "      <td>demo-fails3</td>\n",
       "      <td>demo-fails3_notebook.ipynb</td>\n",
       "      <td>1.0</td>\n",
       "      <td>2.0</td>\n",
       "      <td>1.0</td>\n",
       "      <td>1.0</td>\n",
       "      <td>0.0</td>\n",
       "      <td>0.0</td>\n",
       "      <td>5.0</td>\n",
       "      <td>8</td>\n",
       "    </tr>\n",
       "    <tr>\n",
       "      <th>4</th>\n",
       "      <td>demo-fails2</td>\n",
       "      <td>demo-fails2_notebook.ipynb</td>\n",
       "      <td>1.0</td>\n",
       "      <td>2.0</td>\n",
       "      <td>0.0</td>\n",
       "      <td>0.0</td>\n",
       "      <td>1.0</td>\n",
       "      <td>0.0</td>\n",
       "      <td>4.0</td>\n",
       "      <td>8</td>\n",
       "    </tr>\n",
       "    <tr>\n",
       "      <th>5</th>\n",
       "      <td>demo-fails2Hidden</td>\n",
       "      <td>demo-fails2Hidden_notebook.ipynb</td>\n",
       "      <td>1.0</td>\n",
       "      <td>2.0</td>\n",
       "      <td>1.0</td>\n",
       "      <td>0.0</td>\n",
       "      <td>1.0</td>\n",
       "      <td>0.0</td>\n",
       "      <td>5.0</td>\n",
       "      <td>8</td>\n",
       "    </tr>\n",
       "  </tbody>\n",
       "</table>\n",
       "</div>"
      ],
      "text/plain": [
       "          identifier                              file   q1  q1H   q2  q2H  \\\n",
       "0     demo-passesAll     demo-passesAll_notebook.ipynb  1.0  2.0  1.0  1.0   \n",
       "1        demo-fails1        demo-fails1_notebook.ipynb  1.0  0.0  1.0  1.0   \n",
       "2  demo-fails3Hidden  demo-fails3Hidden_notebook.ipynb  1.0  2.0  1.0  1.0   \n",
       "3        demo-fails3        demo-fails3_notebook.ipynb  1.0  2.0  1.0  1.0   \n",
       "4        demo-fails2        demo-fails2_notebook.ipynb  1.0  2.0  0.0  0.0   \n",
       "5  demo-fails2Hidden  demo-fails2Hidden_notebook.ipynb  1.0  2.0  1.0  0.0   \n",
       "\n",
       "    q3  q3H  total  possible  \n",
       "0  1.0  0.0    6.0         8  \n",
       "1  1.0  0.0    4.0         8  \n",
       "2  1.0  0.0    6.0         8  \n",
       "3  0.0  0.0    5.0         8  \n",
       "4  1.0  0.0    4.0         8  \n",
       "5  1.0  0.0    5.0         8  "
      ]
     },
     "execution_count": 7,
     "metadata": {},
     "output_type": "execute_result"
    }
   ],
   "source": [
    "grades = pd.read_csv(cf['grade_file'])\n",
    "grades"
   ]
  },
  {
   "cell_type": "markdown",
   "metadata": {},
   "source": [
    "### Archive `tmp` Directory and Generate the Upload to Blackboard File\n",
    "\n",
    "This will archive the `/tmp` directory to the `/output/course/assignment` directory so that you have a persistent copy of the final version.   \n",
    "\n",
    "\n",
    "This will loop through the students in your roster file (Blackboard tab) and match it with any graded submissions.  For GitHub classroom it will also match the github ID with the student ID. It will then generate the `/output/course/assignment/upload.csv` file which is ready to be uploaded to blackboard. Scores on each test are included in the `Feedback to Learner` column along with the message included in the `config.yml` file.\n",
    "\n",
    "**It is important to make sure that your `roster.xslx` file is up to date. If a student entered the class late and isn't on the roster, that student's grade won't be updated.**\n",
    "\n",
    "**It is important to make sure that the `bb_column` in the `config.yml` file matches the column in Blackboard when you download for offline grading.**\n",
    "\n"
   ]
  },
  {
   "cell_type": "code",
   "execution_count": 8,
   "metadata": {},
   "outputs": [
    {
     "name": "stdout",
     "output_type": "stream",
     "text": [
      "complete: 6 \n",
      "Incomplete: 0 \n",
      "Total: 6\n",
      "Archiving files in \n"
     ]
    },
    {
     "data": {
      "text/html": [
       "<div>\n",
       "<style scoped>\n",
       "    .dataframe tbody tr th:only-of-type {\n",
       "        vertical-align: middle;\n",
       "    }\n",
       "\n",
       "    .dataframe tbody tr th {\n",
       "        vertical-align: top;\n",
       "    }\n",
       "\n",
       "    .dataframe thead th {\n",
       "        text-align: right;\n",
       "    }\n",
       "</style>\n",
       "<table border=\"1\" class=\"dataframe\">\n",
       "  <thead>\n",
       "    <tr style=\"text-align: right;\">\n",
       "      <th></th>\n",
       "      <th>Last Name</th>\n",
       "      <th>First Name</th>\n",
       "      <th>Username</th>\n",
       "      <th>Student ID</th>\n",
       "      <th>Last Access</th>\n",
       "      <th>Availability</th>\n",
       "      <th>blackboard_grade_test</th>\n",
       "      <th>Grading Notes</th>\n",
       "      <th>Notes Format</th>\n",
       "      <th>Feedback to Learner</th>\n",
       "      <th>Feedback Format</th>\n",
       "    </tr>\n",
       "  </thead>\n",
       "  <tbody>\n",
       "    <tr>\n",
       "      <th>0</th>\n",
       "      <td>Name</td>\n",
       "      <td>Name</td>\n",
       "      <td>fails3</td>\n",
       "      <td>fails3</td>\n",
       "      <td>2020-08-01 22:08:00</td>\n",
       "      <td>Yes</td>\n",
       "      <td>5.0</td>\n",
       "      <td>NaN</td>\n",
       "      <td>NaN</td>\n",
       "      <td>Your submission was successfully received and ...</td>\n",
       "      <td>HTML</td>\n",
       "    </tr>\n",
       "    <tr>\n",
       "      <th>1</th>\n",
       "      <td>Name</td>\n",
       "      <td>Name</td>\n",
       "      <td>passesAll</td>\n",
       "      <td>passesAll</td>\n",
       "      <td>2020-08-01 22:08:00</td>\n",
       "      <td>Yes</td>\n",
       "      <td>6.0</td>\n",
       "      <td>NaN</td>\n",
       "      <td>NaN</td>\n",
       "      <td>Your submission was successfully received and ...</td>\n",
       "      <td>HTML</td>\n",
       "    </tr>\n",
       "    <tr>\n",
       "      <th>2</th>\n",
       "      <td>Name</td>\n",
       "      <td>Name</td>\n",
       "      <td>fails2Hidden</td>\n",
       "      <td>fails2Hidden</td>\n",
       "      <td>2020-08-01 22:08:00</td>\n",
       "      <td>Yes</td>\n",
       "      <td>5.0</td>\n",
       "      <td>NaN</td>\n",
       "      <td>NaN</td>\n",
       "      <td>Your submission was successfully received and ...</td>\n",
       "      <td>HTML</td>\n",
       "    </tr>\n",
       "    <tr>\n",
       "      <th>3</th>\n",
       "      <td>Name</td>\n",
       "      <td>Name</td>\n",
       "      <td>fails3Hidden</td>\n",
       "      <td>fails3Hidden</td>\n",
       "      <td>2020-08-01 22:08:00</td>\n",
       "      <td>Yes</td>\n",
       "      <td>6.0</td>\n",
       "      <td>NaN</td>\n",
       "      <td>NaN</td>\n",
       "      <td>Your submission was successfully received and ...</td>\n",
       "      <td>HTML</td>\n",
       "    </tr>\n",
       "    <tr>\n",
       "      <th>4</th>\n",
       "      <td>Name</td>\n",
       "      <td>Name</td>\n",
       "      <td>fails2</td>\n",
       "      <td>fails2</td>\n",
       "      <td>2020-08-01 22:08:00</td>\n",
       "      <td>Yes</td>\n",
       "      <td>4.0</td>\n",
       "      <td>NaN</td>\n",
       "      <td>NaN</td>\n",
       "      <td>Your submission was successfully received and ...</td>\n",
       "      <td>HTML</td>\n",
       "    </tr>\n",
       "    <tr>\n",
       "      <th>5</th>\n",
       "      <td>Name</td>\n",
       "      <td>Name</td>\n",
       "      <td>fails1</td>\n",
       "      <td>fails1</td>\n",
       "      <td>2020-08-01 22:08:00</td>\n",
       "      <td>Yes</td>\n",
       "      <td>4.0</td>\n",
       "      <td>NaN</td>\n",
       "      <td>NaN</td>\n",
       "      <td>Your submission was successfully received and ...</td>\n",
       "      <td>HTML</td>\n",
       "    </tr>\n",
       "  </tbody>\n",
       "</table>\n",
       "</div>"
      ],
      "text/plain": [
       "  Last Name First Name      Username    Student ID         Last Access  \\\n",
       "0      Name       Name        fails3        fails3 2020-08-01 22:08:00   \n",
       "1      Name       Name     passesAll     passesAll 2020-08-01 22:08:00   \n",
       "2      Name       Name  fails2Hidden  fails2Hidden 2020-08-01 22:08:00   \n",
       "3      Name       Name  fails3Hidden  fails3Hidden 2020-08-01 22:08:00   \n",
       "4      Name       Name        fails2        fails2 2020-08-01 22:08:00   \n",
       "5      Name       Name        fails1        fails1 2020-08-01 22:08:00   \n",
       "\n",
       "  Availability  blackboard_grade_test  Grading Notes  Notes Format  \\\n",
       "0          Yes                    5.0            NaN           NaN   \n",
       "1          Yes                    6.0            NaN           NaN   \n",
       "2          Yes                    5.0            NaN           NaN   \n",
       "3          Yes                    6.0            NaN           NaN   \n",
       "4          Yes                    4.0            NaN           NaN   \n",
       "5          Yes                    4.0            NaN           NaN   \n",
       "\n",
       "                                 Feedback to Learner Feedback Format  \n",
       "0  Your submission was successfully received and ...            HTML  \n",
       "1  Your submission was successfully received and ...            HTML  \n",
       "2  Your submission was successfully received and ...            HTML  \n",
       "3  Your submission was successfully received and ...            HTML  \n",
       "4  Your submission was successfully received and ...            HTML  \n",
       "5  Your submission was successfully received and ...            HTML  "
      ]
     },
     "execution_count": 8,
     "metadata": {},
     "output_type": "execute_result"
    }
   ],
   "source": [
    "#Aggregate JSON files for manual grading. \n",
    "blackboard=ag.prepare_blackboard_upload(cf, archive=True)\n",
    "blackboard"
   ]
  },
  {
   "cell_type": "markdown",
   "metadata": {},
   "source": [
    "## Upload to Blackboard File \n",
    "\n",
    "TBD: Flag student submissions which aren't in the roster file.\n",
    "\n",
    "Upload the `/output/course/assignment/upload.csv` and you are done. "
   ]
  }
 ],
 "metadata": {
  "accelerator": "GPU",
  "colab": {
   "collapsed_sections": [],
   "name": "grade_colab_v2.ipynb",
   "provenance": []
  },
  "kernelspec": {
   "display_name": "Python 3",
   "language": "python",
   "name": "python3"
  },
  "language_info": {
   "codemirror_mode": {
    "name": "ipython",
    "version": 3
   },
   "file_extension": ".py",
   "mimetype": "text/x-python",
   "name": "python",
   "nbconvert_exporter": "python",
   "pygments_lexer": "ipython3",
   "version": "3.7.6"
  }
 },
 "nbformat": 4,
 "nbformat_minor": 4
}
