{
 "cells": [
  {
   "cell_type": "markdown",
   "metadata": {
    "colab_type": "text",
    "id": "R_hhZAAZzpIT"
   },
   "source": [
    "## Homework Grading\n",
    "The goal of this is to develop a robust homework grading system which combines Google Colab + Jupyter Notebooks + GitHub Classroom + Otter Grader. \n",
    "\n",
    "For this example, we are going to download a zip file with a sample assignments.  However, if you end up grading from colab, you may consider directly mounting your google drive with the code below.  \n"
   ]
  },
  {
   "cell_type": "code",
   "execution_count": 1,
   "metadata": {},
   "outputs": [],
   "source": [
    "%load_ext autoreload\n",
    "%autoreload 2\n",
    "%matplotlib inline"
   ]
  },
  {
   "cell_type": "markdown",
   "metadata": {},
   "source": [
    "### Build the Docker Container\n",
    "I find it is best to customize your docker container and build it if grading locally. "
   ]
  },
  {
   "cell_type": "code",
   "execution_count": null,
   "metadata": {},
   "outputs": [],
   "source": [
    "#!cd ../docker && docker build . -t otter-helper:latest"
   ]
  },
  {
   "cell_type": "markdown",
   "metadata": {},
   "source": [
    "### Setup for Grading\n",
    "\n",
    "Make sure you have installed the dependencies in the `requirements.txt` file. \n",
    "\n",
    "`pip install -r requirements.txt`\n",
    "\n",
    "Make sure you have all of the required files.\n",
    "\n",
    "1.  Download assignment from github and put it in the `assignments/<course>/<assignment>`\n",
    "2. Update the `/config/course/<course>.yml` file with the appropriate assignment file. \n",
    "3. Verify that the appropriate tests and data are in the associated `config/course/assignment/` folder. \n",
    "4. Verify that the roster is setup in `config/course/roster.xlsx`. \n",
    "5. Verify other configurations in  `/config/course/<course>.yml` are correct.  \n",
    "\n",
    "If you want to delete the tmp grading folder set `delete_tmp` to `True`. "
   ]
  },
  {
   "cell_type": "markdown",
   "metadata": {},
   "source": [
    "### Set and Load the Configuration\n",
    "We save configuration in a local file. "
   ]
  },
  {
   "cell_type": "code",
   "execution_count": 2,
   "metadata": {
    "colab": {},
    "colab_type": "code",
    "id": "AjZgEPpP61tb"
   },
   "outputs": [
    {
     "data": {
      "text/plain": [
       "{'class_name': 'Sample Class',\n",
       " 'class_id': 'sample-class',\n",
       " 'message_complete': 'Your submission was successfully received and graded.<br>',\n",
       " 'message_incomplete': 'If you get this message it is because you did not submit assignment. Please see the TA.<br>',\n",
       " 'num_containers': 4,\n",
       " 'ignore': ['.ipynb_checkpoints', '.DS_Store'],\n",
       " 'requirements': 'config/sample-class/requirements.txt',\n",
       " 'roster': 'config/sample-class/roster.xlsx',\n",
       " 'assignments': {'blackboard': {'name': 'Sample assignment',\n",
       "   'type': 'bb',\n",
       "   'extension': '.ipynb',\n",
       "   'tests_path': 'config/sample-class/blackboard/hidden-tests',\n",
       "   'requirements': 'config/sample-class/requirements.txt',\n",
       "   'seed': 42,\n",
       "   'bb_column': 'blackboard_grade_test',\n",
       "   'files': ['config/files/test_data_a.csv', 'config/files/test_data_b.csv']},\n",
       "  'github-classroom': {'name': 'Sample assignment2',\n",
       "   'type': 'gc',\n",
       "   'extension': '.ipynb',\n",
       "   'tests_path': 'config/sample-class/github-classroom/hidden-tests',\n",
       "   'requirements': 'config/sample-class/requirements.txt',\n",
       "   'seed': 42,\n",
       "   'bb_column': 'blackboard_grade_test',\n",
       "   'files': ['config/files/test_data_a.csv', 'config/files/test_data_b.csv']}},\n",
       " 'grade_assignment': 'github-classroom',\n",
       " 'base_path': PosixPath('/Users/jasonkuruzovich/githubdesktop/0_class/otter_helper'),\n",
       " 'assignments_path': PosixPath('/Users/jasonkuruzovich/githubdesktop/0_class/otter_helper/assignments/sample-class/github-classroom'),\n",
       " 'roster_path': PosixPath('/Users/jasonkuruzovich/githubdesktop/0_class/otter_helper/config/sample-class/roster.xlsx'),\n",
       " 'notebook_output_path': PosixPath('/Users/jasonkuruzovich/githubdesktop/0_class/otter_helper/output/sample-class/github-classroom/notebooks'),\n",
       " 'grades_output_path': PosixPath('/Users/jasonkuruzovich/githubdesktop/0_class/otter_helper/output/sample-class/github-classroom'),\n",
       " 'json_output_path': PosixPath('/Users/jasonkuruzovich/githubdesktop/0_class/otter_helper/output/sample-class/github-classroom/json'),\n",
       " 'tmp_path': PosixPath('/Users/jasonkuruzovich/githubdesktop/0_class/otter_helper/tmp'),\n",
       " 'grade_file': PosixPath('/Users/jasonkuruzovich/githubdesktop/0_class/otter_helper/tmp/final_grades.csv')}"
      ]
     },
     "execution_count": 2,
     "metadata": {},
     "output_type": "execute_result"
    }
   ],
   "source": [
    "#set to what you want to grade\n",
    "course = 'sample-class' #use sample tests\n",
    "assignment_id = 'github-classroom'  #use sample tests\n",
    "#assignment_id = 'blackboard'  #use sample tests\n",
    "#Set configuration\n",
    "from pathlib import Path\n",
    "import configparser, sys, os, importlib\n",
    "import pandas as pd\n",
    " \n",
    "cwd_dir = Path.cwd() #For running locally\n",
    "base_dir = cwd_dir.parent #For running locally\n",
    "#base_dir='/content/drive/My Drive/autograding'\n",
    "modules_path = base_dir / 'modules' \n",
    "sys.path.append('../modules') # Not sure why appending the mudles path didn't work. \n",
    "\n",
    "#Load the autograding library\n",
    "import autograde as ag\n",
    "importlib.reload(ag)\n",
    "cf = ag.get_config(course, assignment_id, base_dir)\n",
    "cf"
   ]
  },
  {
   "cell_type": "markdown",
   "metadata": {},
   "source": [
    "### Prepare Grading\n",
    "The will put either the Blackboard or the github classroom files in a format for use with Otter Grader.\n",
    "\n",
    "cf = The config loaded earlier.\n",
    "cleanup = True will delete the /tmp directory. \n",
    "submissions, if you just want to select specific entries. \n",
    "count = The number that you want to grade. \n",
    "\n",
    "TBD NEED TO MOVE THE FILES OVER. "
   ]
  },
  {
   "cell_type": "code",
   "execution_count": null,
   "metadata": {},
   "outputs": [],
   "source": [
    "files=ag.prepare_grade(cf,  cleanup=True)  \n",
    "files"
   ]
  },
  {
   "cell_type": "markdown",
   "metadata": {},
   "source": [
    "## Running the Grader \n",
    "\n",
    "This will launch a container, grade the assignment, and put the resulting in grades.csv. "
   ]
  },
  {
   "cell_type": "code",
   "execution_count": null,
   "metadata": {},
   "outputs": [],
   "source": [
    "!cd ../tmp && otter -j meta.json -t tests --image otter-helper:latest -v"
   ]
  },
  {
   "cell_type": "markdown",
   "metadata": {},
   "source": [
    "## Prepare Grading For Upload\n",
    "No you have graded all the students there is an output file in the /tmp directory with their grades.  The `prepare` command below will match the CSV file\n",
    "\n",
    "\n",
    "\n"
   ]
  },
  {
   "cell_type": "code",
   "execution_count": 9,
   "metadata": {},
   "outputs": [
    {
     "name": "stdout",
     "output_type": "stream",
     "text": [
      "complete: 6 \n",
      "Incomplete: 0 \n",
      "Total: 6\n"
     ]
    },
    {
     "data": {
      "text/html": [
       "<div>\n",
       "<style scoped>\n",
       "    .dataframe tbody tr th:only-of-type {\n",
       "        vertical-align: middle;\n",
       "    }\n",
       "\n",
       "    .dataframe tbody tr th {\n",
       "        vertical-align: top;\n",
       "    }\n",
       "\n",
       "    .dataframe thead th {\n",
       "        text-align: right;\n",
       "    }\n",
       "</style>\n",
       "<table border=\"1\" class=\"dataframe\">\n",
       "  <thead>\n",
       "    <tr style=\"text-align: right;\">\n",
       "      <th></th>\n",
       "      <th>Last Name</th>\n",
       "      <th>First Name</th>\n",
       "      <th>Username</th>\n",
       "      <th>Student ID</th>\n",
       "      <th>Last Access</th>\n",
       "      <th>Availability</th>\n",
       "      <th>blackboard_grade_test</th>\n",
       "      <th>Grading Notes</th>\n",
       "      <th>Notes Format</th>\n",
       "      <th>Feedback to Learner</th>\n",
       "      <th>Feedback Format</th>\n",
       "    </tr>\n",
       "  </thead>\n",
       "  <tbody>\n",
       "    <tr>\n",
       "      <th>0</th>\n",
       "      <td>Name</td>\n",
       "      <td>Name</td>\n",
       "      <td>fails3</td>\n",
       "      <td>fails3</td>\n",
       "      <td>2020-08-01 22:08:00</td>\n",
       "      <td>Yes</td>\n",
       "      <td>5.0</td>\n",
       "      <td>NaN</td>\n",
       "      <td>NaN</td>\n",
       "      <td>Your submission was successfully received and ...</td>\n",
       "      <td>HTML</td>\n",
       "    </tr>\n",
       "    <tr>\n",
       "      <th>1</th>\n",
       "      <td>Name</td>\n",
       "      <td>Name</td>\n",
       "      <td>passesAll</td>\n",
       "      <td>passesAll</td>\n",
       "      <td>2020-08-01 22:08:00</td>\n",
       "      <td>Yes</td>\n",
       "      <td>6.0</td>\n",
       "      <td>NaN</td>\n",
       "      <td>NaN</td>\n",
       "      <td>Your submission was successfully received and ...</td>\n",
       "      <td>HTML</td>\n",
       "    </tr>\n",
       "    <tr>\n",
       "      <th>2</th>\n",
       "      <td>Name</td>\n",
       "      <td>Name</td>\n",
       "      <td>fails2Hidden</td>\n",
       "      <td>fails2Hidden</td>\n",
       "      <td>2020-08-01 22:08:00</td>\n",
       "      <td>Yes</td>\n",
       "      <td>5.0</td>\n",
       "      <td>NaN</td>\n",
       "      <td>NaN</td>\n",
       "      <td>Your submission was successfully received and ...</td>\n",
       "      <td>HTML</td>\n",
       "    </tr>\n",
       "    <tr>\n",
       "      <th>3</th>\n",
       "      <td>Name</td>\n",
       "      <td>Name</td>\n",
       "      <td>fails3Hidden</td>\n",
       "      <td>fails3Hidden</td>\n",
       "      <td>2020-08-01 22:08:00</td>\n",
       "      <td>Yes</td>\n",
       "      <td>6.0</td>\n",
       "      <td>NaN</td>\n",
       "      <td>NaN</td>\n",
       "      <td>Your submission was successfully received and ...</td>\n",
       "      <td>HTML</td>\n",
       "    </tr>\n",
       "    <tr>\n",
       "      <th>4</th>\n",
       "      <td>Name</td>\n",
       "      <td>Name</td>\n",
       "      <td>fails2</td>\n",
       "      <td>fails2</td>\n",
       "      <td>2020-08-01 22:08:00</td>\n",
       "      <td>Yes</td>\n",
       "      <td>4.0</td>\n",
       "      <td>NaN</td>\n",
       "      <td>NaN</td>\n",
       "      <td>Your submission was successfully received and ...</td>\n",
       "      <td>HTML</td>\n",
       "    </tr>\n",
       "    <tr>\n",
       "      <th>5</th>\n",
       "      <td>Name</td>\n",
       "      <td>Name</td>\n",
       "      <td>fails1</td>\n",
       "      <td>fails1</td>\n",
       "      <td>2020-08-01 22:08:00</td>\n",
       "      <td>Yes</td>\n",
       "      <td>4.0</td>\n",
       "      <td>NaN</td>\n",
       "      <td>NaN</td>\n",
       "      <td>Your submission was successfully received and ...</td>\n",
       "      <td>HTML</td>\n",
       "    </tr>\n",
       "  </tbody>\n",
       "</table>\n",
       "</div>"
      ],
      "text/plain": [
       "  Last Name First Name      Username    Student ID         Last Access  \\\n",
       "0      Name       Name        fails3        fails3 2020-08-01 22:08:00   \n",
       "1      Name       Name     passesAll     passesAll 2020-08-01 22:08:00   \n",
       "2      Name       Name  fails2Hidden  fails2Hidden 2020-08-01 22:08:00   \n",
       "3      Name       Name  fails3Hidden  fails3Hidden 2020-08-01 22:08:00   \n",
       "4      Name       Name        fails2        fails2 2020-08-01 22:08:00   \n",
       "5      Name       Name        fails1        fails1 2020-08-01 22:08:00   \n",
       "\n",
       "  Availability  blackboard_grade_test  Grading Notes  Notes Format  \\\n",
       "0          Yes                    5.0            NaN           NaN   \n",
       "1          Yes                    6.0            NaN           NaN   \n",
       "2          Yes                    5.0            NaN           NaN   \n",
       "3          Yes                    6.0            NaN           NaN   \n",
       "4          Yes                    4.0            NaN           NaN   \n",
       "5          Yes                    4.0            NaN           NaN   \n",
       "\n",
       "                                 Feedback to Learner Feedback Format  \n",
       "0  Your submission was successfully received and ...            HTML  \n",
       "1  Your submission was successfully received and ...            HTML  \n",
       "2  Your submission was successfully received and ...            HTML  \n",
       "3  Your submission was successfully received and ...            HTML  \n",
       "4  Your submission was successfully received and ...            HTML  \n",
       "5  Your submission was successfully received and ...            HTML  "
      ]
     },
     "execution_count": 9,
     "metadata": {},
     "output_type": "execute_result"
    }
   ],
   "source": [
    "#Aggregate JSON files for manual grading. \n",
    "blackboard=ag.prepare_blackboard_upload(cf, archive=True)\n",
    "blackboard"
   ]
  },
  {
   "cell_type": "markdown",
   "metadata": {},
   "source": [
    "## Upload the Blackboard File \n",
    "\n",
    "And you are done. "
   ]
  }
 ],
 "metadata": {
  "accelerator": "GPU",
  "colab": {
   "collapsed_sections": [],
   "name": "grade_colab_v2.ipynb",
   "provenance": []
  },
  "kernelspec": {
   "display_name": "Python 3",
   "language": "python",
   "name": "python3"
  },
  "language_info": {
   "codemirror_mode": {
    "name": "ipython",
    "version": 3
   },
   "file_extension": ".py",
   "mimetype": "text/x-python",
   "name": "python",
   "nbconvert_exporter": "python",
   "pygments_lexer": "ipython3",
   "version": "3.7.6"
  }
 },
 "nbformat": 4,
 "nbformat_minor": 4
}
